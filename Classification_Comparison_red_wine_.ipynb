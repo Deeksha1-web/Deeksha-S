{
  "nbformat": 4,
  "nbformat_minor": 0,
  "metadata": {
    "colab": {
      "name": "Classification_Comparison_red wine .ipynb",
      "provenance": [],
      "collapsed_sections": [],
      "include_colab_link": true
    },
    "kernelspec": {
      "name": "python3",
      "display_name": "Python 3"
    }
  },
  "cells": [
    {
      "cell_type": "markdown",
      "metadata": {
        "id": "view-in-github",
        "colab_type": "text"
      },
      "source": [
        "<a href=\"https://colab.research.google.com/github/Deeksha1-web/Deeksha-S/blob/master/Classification_Comparison_red_wine_.ipynb\" target=\"_parent\"><img src=\"https://colab.research.google.com/assets/colab-badge.svg\" alt=\"Open In Colab\"/></a>"
      ]
    },
    {
      "cell_type": "code",
      "metadata": {
        "id": "d5blrg1jEnnD",
        "colab_type": "code",
        "colab": {}
      },
      "source": [
        "import pandas as pd\n",
        "import numpy as np\n",
        "import matplotlib.pyplot as plt"
      ],
      "execution_count": 10,
      "outputs": []
    },
    {
      "cell_type": "code",
      "metadata": {
        "id": "4PE8FBZBNfFc",
        "colab_type": "code",
        "colab": {}
      },
      "source": [
        "dataset = pd.read_csv('/winequality-red.csv')"
      ],
      "execution_count": 11,
      "outputs": []
    },
    {
      "cell_type": "code",
      "metadata": {
        "id": "VE7InMc2NmRe",
        "colab_type": "code",
        "colab": {
          "base_uri": "https://localhost:8080/",
          "height": 340
        },
        "outputId": "5f88f6e2-cdea-4543-e741-efed38eae8b8"
      },
      "source": [
        "dataset.info()"
      ],
      "execution_count": 12,
      "outputs": [
        {
          "output_type": "stream",
          "text": [
            "<class 'pandas.core.frame.DataFrame'>\n",
            "RangeIndex: 1599 entries, 0 to 1598\n",
            "Data columns (total 12 columns):\n",
            " #   Column                Non-Null Count  Dtype  \n",
            "---  ------                --------------  -----  \n",
            " 0   fixed acidity         1599 non-null   float64\n",
            " 1   volatile acidity      1599 non-null   float64\n",
            " 2   citric acid           1599 non-null   float64\n",
            " 3   residual sugar        1599 non-null   float64\n",
            " 4   chlorides             1599 non-null   float64\n",
            " 5   free sulfur dioxide   1599 non-null   float64\n",
            " 6   total sulfur dioxide  1599 non-null   float64\n",
            " 7   density               1599 non-null   float64\n",
            " 8   pH                    1599 non-null   float64\n",
            " 9   sulphates             1599 non-null   float64\n",
            " 10  alcohol               1599 non-null   float64\n",
            " 11  quality               1599 non-null   int64  \n",
            "dtypes: float64(11), int64(1)\n",
            "memory usage: 150.0 KB\n"
          ],
          "name": "stdout"
        }
      ]
    },
    {
      "cell_type": "code",
      "metadata": {
        "id": "imPxtyE_Nq06",
        "colab_type": "code",
        "colab": {}
      },
      "source": [
        "X = dataset.iloc[: , 1:-1].values\n",
        "y = dataset.iloc[:, -1].values"
      ],
      "execution_count": 13,
      "outputs": []
    },
    {
      "cell_type": "code",
      "metadata": {
        "id": "ZYR6lUyMN9eO",
        "colab_type": "code",
        "colab": {}
      },
      "source": [
        "from sklearn.model_selection import train_test_split"
      ],
      "execution_count": 14,
      "outputs": []
    },
    {
      "cell_type": "code",
      "metadata": {
        "id": "nzeqHEvqOC_5",
        "colab_type": "code",
        "colab": {}
      },
      "source": [
        "X_train, X_test, y_train, y_test = train_test_split(X ,y, test_size=0.20)"
      ],
      "execution_count": 15,
      "outputs": []
    },
    {
      "cell_type": "code",
      "metadata": {
        "id": "AT5JRq4VOW4G",
        "colab_type": "code",
        "colab": {}
      },
      "source": [
        "from sklearn.preprocessing import StandardScaler"
      ],
      "execution_count": 16,
      "outputs": []
    },
    {
      "cell_type": "code",
      "metadata": {
        "id": "TCbWKiZOQCZz",
        "colab_type": "code",
        "colab": {}
      },
      "source": [
        "sc = StandardScaler()"
      ],
      "execution_count": 17,
      "outputs": []
    },
    {
      "cell_type": "code",
      "metadata": {
        "id": "iXqxB5nfQFmL",
        "colab_type": "code",
        "colab": {}
      },
      "source": [
        "X_train = sc.fit_transform(X_train)\n",
        "X_test = sc.transform(X_test)"
      ],
      "execution_count": 18,
      "outputs": []
    },
    {
      "cell_type": "code",
      "metadata": {
        "id": "LooC0hNOQXUM",
        "colab_type": "code",
        "colab": {}
      },
      "source": [
        "from sklearn.linear_model import LogisticRegression\n",
        "from sklearn.neighbors import KNeighborsClassifier\n",
        "from sklearn.tree import DecisionTreeClassifier\n",
        "from sklearn.ensemble import RandomForestClassifier\n",
        "from sklearn.svm import SVC"
      ],
      "execution_count": 19,
      "outputs": []
    },
    {
      "cell_type": "code",
      "metadata": {
        "id": "A5sE--MrQlhb",
        "colab_type": "code",
        "colab": {}
      },
      "source": [
        "l_cla = LogisticRegression()\n",
        "k_cla = KNeighborsClassifier()\n",
        "d_cla = DecisionTreeClassifier()\n",
        "r_cla = RandomForestClassifier()\n",
        "s_cla = SVC(kernel='linear')\n",
        "ks_cla = SVC(kernel= 'rbf')"
      ],
      "execution_count": 20,
      "outputs": []
    },
    {
      "cell_type": "code",
      "metadata": {
        "id": "eRhoPTEkQoHD",
        "colab_type": "code",
        "colab": {
          "base_uri": "https://localhost:8080/",
          "height": 85
        },
        "outputId": "d414b232-dc8f-40d9-f042-ddf9835d9f57"
      },
      "source": [
        "l_cla.fit(X_train, y_train)\n",
        "k_cla.fit(X_train, y_train)\n",
        "d_cla.fit(X_train, y_train)\n",
        "r_cla.fit(X_train, y_train)\n",
        "s_cla.fit(X_train, y_train)\n",
        "ks_cla.fit(X_train, y_train)"
      ],
      "execution_count": 21,
      "outputs": [
        {
          "output_type": "execute_result",
          "data": {
            "text/plain": [
              "SVC(C=1.0, break_ties=False, cache_size=200, class_weight=None, coef0=0.0,\n",
              "    decision_function_shape='ovr', degree=3, gamma='scale', kernel='rbf',\n",
              "    max_iter=-1, probability=False, random_state=None, shrinking=True,\n",
              "    tol=0.001, verbose=False)"
            ]
          },
          "metadata": {
            "tags": []
          },
          "execution_count": 21
        }
      ]
    },
    {
      "cell_type": "code",
      "metadata": {
        "id": "p5vUaLp4SQ7_",
        "colab_type": "code",
        "colab": {}
      },
      "source": [
        "l_pred = l_cla.predict(X_test)\n",
        "k_pred = k_cla.predict(X_test)\n",
        "d_pred = d_cla.predict(X_test)\n",
        "r_pred = r_cla.predict(X_test)\n",
        "s_pred = s_cla.predict(X_test)\n",
        "ks_pred = ks_cla.predict(X_test)"
      ],
      "execution_count": 22,
      "outputs": []
    },
    {
      "cell_type": "code",
      "metadata": {
        "id": "hAtJQTcASmUi",
        "colab_type": "code",
        "colab": {}
      },
      "source": [
        "from sklearn.metrics import confusion_matrix"
      ],
      "execution_count": 23,
      "outputs": []
    },
    {
      "cell_type": "code",
      "metadata": {
        "id": "-IayT9QeSBhr",
        "colab_type": "code",
        "colab": {}
      },
      "source": [
        "l_c = confusion_matrix(y_test, l_pred)\n",
        "k_c = confusion_matrix(y_test, k_pred)\n",
        "d_c = confusion_matrix(y_test, d_pred)\n",
        "r_c = confusion_matrix(y_test, r_pred)\n",
        "s_c = confusion_matrix(y_test, s_pred)\n",
        "ks_c = confusion_matrix(y_test, ks_pred)"
      ],
      "execution_count": 24,
      "outputs": []
    },
    {
      "cell_type": "code",
      "metadata": {
        "id": "P3XCcc49h5BS",
        "colab_type": "code",
        "colab": {
          "base_uri": "https://localhost:8080/",
          "height": 119
        },
        "outputId": "7868fe27-fdab-4d69-d69b-3efb54fd5412"
      },
      "source": [
        "l_c"
      ],
      "execution_count": 25,
      "outputs": [
        {
          "output_type": "execute_result",
          "data": {
            "text/plain": [
              "array([[  0,   0,   2,   0,   0,   0],\n",
              "       [  0,   1,   5,   2,   0,   0],\n",
              "       [  0,   2, 103,  32,   2,   0],\n",
              "       [  0,   0,  42,  78,  11,   0],\n",
              "       [  0,   0,   3,  17,  13,   0],\n",
              "       [  0,   0,   0,   4,   3,   0]])"
            ]
          },
          "metadata": {
            "tags": []
          },
          "execution_count": 25
        }
      ]
    },
    {
      "cell_type": "code",
      "metadata": {
        "id": "11IUHWHFh4-X",
        "colab_type": "code",
        "colab": {
          "base_uri": "https://localhost:8080/",
          "height": 119
        },
        "outputId": "a659a98d-6a09-454f-9b0a-911e0e96a7ec"
      },
      "source": [
        "k_c"
      ],
      "execution_count": 26,
      "outputs": [
        {
          "output_type": "execute_result",
          "data": {
            "text/plain": [
              "array([[ 0,  0,  1,  1,  0,  0],\n",
              "       [ 0,  1,  5,  2,  0,  0],\n",
              "       [ 0,  3, 91, 41,  4,  0],\n",
              "       [ 0,  1, 32, 89,  9,  0],\n",
              "       [ 0,  0,  9, 14, 10,  0],\n",
              "       [ 0,  0,  1,  2,  4,  0]])"
            ]
          },
          "metadata": {
            "tags": []
          },
          "execution_count": 26
        }
      ]
    },
    {
      "cell_type": "code",
      "metadata": {
        "id": "lR90l2ZZh46f",
        "colab_type": "code",
        "colab": {
          "base_uri": "https://localhost:8080/",
          "height": 119
        },
        "outputId": "0a9df8c2-7164-4d59-8484-d289500f0bea"
      },
      "source": [
        "d_c"
      ],
      "execution_count": 27,
      "outputs": [
        {
          "output_type": "execute_result",
          "data": {
            "text/plain": [
              "array([[ 0,  1,  1,  0,  0,  0],\n",
              "       [ 0,  1,  4,  3,  0,  0],\n",
              "       [ 0,  5, 92, 34,  8,  0],\n",
              "       [ 0,  3, 23, 89, 14,  2],\n",
              "       [ 0,  1,  4,  9, 18,  1],\n",
              "       [ 0,  0,  1,  2,  2,  2]])"
            ]
          },
          "metadata": {
            "tags": []
          },
          "execution_count": 27
        }
      ]
    },
    {
      "cell_type": "code",
      "metadata": {
        "id": "BVp7EYR5h423",
        "colab_type": "code",
        "colab": {
          "base_uri": "https://localhost:8080/",
          "height": 119
        },
        "outputId": "166d3a86-54b4-4ef9-9a44-de27e1b5a1ee"
      },
      "source": [
        "r_c"
      ],
      "execution_count": 28,
      "outputs": [
        {
          "output_type": "execute_result",
          "data": {
            "text/plain": [
              "array([[  0,   0,   1,   1,   0,   0],\n",
              "       [  0,   0,   7,   1,   0,   0],\n",
              "       [  0,   1, 106,  30,   2,   0],\n",
              "       [  0,   0,  21,  98,  12,   0],\n",
              "       [  0,   0,   3,  10,  20,   0],\n",
              "       [  0,   0,   0,   2,   4,   1]])"
            ]
          },
          "metadata": {
            "tags": []
          },
          "execution_count": 28
        }
      ]
    },
    {
      "cell_type": "code",
      "metadata": {
        "id": "7yot4Hkbh4xs",
        "colab_type": "code",
        "colab": {
          "base_uri": "https://localhost:8080/",
          "height": 119
        },
        "outputId": "6090ee20-45c6-4953-eadd-1b936c75af6c"
      },
      "source": [
        "s_c"
      ],
      "execution_count": 29,
      "outputs": [
        {
          "output_type": "execute_result",
          "data": {
            "text/plain": [
              "array([[  0,   0,   2,   0,   0,   0],\n",
              "       [  0,   0,   6,   2,   0,   0],\n",
              "       [  0,   0, 105,  34,   0,   0],\n",
              "       [  0,   0,  42,  89,   0,   0],\n",
              "       [  0,   0,   5,  28,   0,   0],\n",
              "       [  0,   0,   0,   7,   0,   0]])"
            ]
          },
          "metadata": {
            "tags": []
          },
          "execution_count": 29
        }
      ]
    },
    {
      "cell_type": "code",
      "metadata": {
        "id": "-7_GaywDh_Jq",
        "colab_type": "code",
        "colab": {
          "base_uri": "https://localhost:8080/",
          "height": 119
        },
        "outputId": "396e50e4-6933-4ee8-a159-fa55e04fccad"
      },
      "source": [
        "ks_c"
      ],
      "execution_count": 30,
      "outputs": [
        {
          "output_type": "execute_result",
          "data": {
            "text/plain": [
              "array([[  0,   0,   1,   1,   0,   0],\n",
              "       [  0,   0,   8,   0,   0,   0],\n",
              "       [  0,   0, 107,  32,   0,   0],\n",
              "       [  0,   0,  38,  87,   6,   0],\n",
              "       [  0,   0,   5,  18,  10,   0],\n",
              "       [  0,   0,   0,   5,   2,   0]])"
            ]
          },
          "metadata": {
            "tags": []
          },
          "execution_count": 30
        }
      ]
    },
    {
      "cell_type": "code",
      "metadata": {
        "id": "LyxVVBaUSGHn",
        "colab_type": "code",
        "colab": {}
      },
      "source": [
        "from sklearn.metrics import accuracy_score"
      ],
      "execution_count": 31,
      "outputs": []
    },
    {
      "cell_type": "code",
      "metadata": {
        "id": "Yy1c-mL5S1Io",
        "colab_type": "code",
        "colab": {}
      },
      "source": [
        "l_a = accuracy_score(y_test, l_pred)\n",
        "k_a = accuracy_score(y_test, k_pred)\n",
        "d_a = accuracy_score(y_test, d_pred)\n",
        "r_a = accuracy_score(y_test, r_pred)\n",
        "s_a = accuracy_score(y_test, s_pred)\n",
        "ks_a = accuracy_score(y_test, ks_pred)"
      ],
      "execution_count": 32,
      "outputs": []
    },
    {
      "cell_type": "code",
      "metadata": {
        "id": "_GSmHAL9V4mE",
        "colab_type": "code",
        "colab": {
          "base_uri": "https://localhost:8080/",
          "height": 119
        },
        "outputId": "5f51e4fb-1b1a-44ed-ca0d-75317eacc3d5"
      },
      "source": [
        "print('Logistic Regression: ' + str(l_a) + '\\nKNN: ' + str(k_a) + '\\nDecision Tree: ' + str(d_a) + '\\nRandom Forest: ' + str(r_a) + '\\nLinear SVC: ' + str(s_a) + '\\nKernel SVC: ' + str(l_a))"
      ],
      "execution_count": 33,
      "outputs": [
        {
          "output_type": "stream",
          "text": [
            "Logistic Regression: 0.609375\n",
            "KNN: 0.596875\n",
            "Decision Tree: 0.63125\n",
            "Random Forest: 0.703125\n",
            "Linear SVC: 0.60625\n",
            "Kernel SVC: 0.609375\n"
          ],
          "name": "stdout"
        }
      ]
    },
    {
      "cell_type": "markdown",
      "metadata": {
        "id": "lGbC8YO_TaO-",
        "colab_type": "text"
      },
      "source": [
        "consolation : since ramdom forest accuracy is high we are considering this thank you "
      ]
    },
    {
      "cell_type": "markdown",
      "metadata": {
        "id": "FHq8618VTXzz",
        "colab_type": "text"
      },
      "source": [
        ""
      ]
    }
  ]
}